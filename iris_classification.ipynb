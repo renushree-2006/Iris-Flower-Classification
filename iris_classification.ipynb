{
 "cells": [
  {
   "cell_type": "markdown",
   "id": "13d0f028",
   "metadata": {},
   "source": [
    "# 🌸 Iris Flower Classification – Machine Learning Project"
   ]
  },
  {
   "cell_type": "markdown",
   "id": "a88ecfb5",
   "metadata": {},
   "source": [
    "\n",
    "This notebook is part of my **AI & ML Internship (Week 1)**.  \n",
    "The goal is to classify **Iris flowers** into three species based on their **sepal and petal measurements**.\n",
    "\n",
    "Species in dataset:  \n",
    "- 🌱 Setosa  \n",
    "- 🌿 Versicolor  \n",
    "- 🌸 Virginica  \n"
   ]
  },
  {
   "cell_type": "markdown",
   "id": "f817af56",
   "metadata": {},
   "source": [
    "## 📌 Step 0: Import Libraries"
   ]
  },
  {
   "cell_type": "code",
   "execution_count": null,
   "id": "b98a5d19",
   "metadata": {},
   "outputs": [],
   "source": [
    "\n",
    "import pandas as pd\n",
    "import numpy as np\n",
    "import matplotlib.pyplot as plt\n",
    "import seaborn as sns\n",
    "\n",
    "from sklearn.datasets import load_iris\n",
    "from sklearn.model_selection import train_test_split\n",
    "from sklearn.neighbors import KNeighborsClassifier\n",
    "from sklearn.tree import DecisionTreeClassifier\n",
    "from sklearn.metrics import accuracy_score, confusion_matrix, classification_report\n"
   ]
  },
  {
   "cell_type": "markdown",
   "id": "12292bc0",
   "metadata": {},
   "source": [
    "## 📌 Step 1: Load Dataset"
   ]
  },
  {
   "cell_type": "code",
   "execution_count": null,
   "id": "ef7841cd",
   "metadata": {},
   "outputs": [],
   "source": [
    "\n",
    "iris = load_iris()\n",
    "df = pd.DataFrame(data=iris.data, columns=iris.feature_names)\n",
    "df['species'] = iris.target\n",
    "\n",
    "# Map numeric target to species names\n",
    "df['species'] = df['species'].map({0:'setosa', 1:'versicolor', 2:'virginica'})\n",
    "\n",
    "print(\"First 5 rows of dataset:\")\n",
    "df.head()\n"
   ]
  },
  {
   "cell_type": "markdown",
   "id": "7762fa69",
   "metadata": {},
   "source": [
    "## 📌 Step 2: Explore Dataset"
   ]
  },
  {
   "cell_type": "code",
   "execution_count": null,
   "id": "357e33c2",
   "metadata": {},
   "outputs": [],
   "source": [
    "\n",
    "print(\"Dataset Info:\")\n",
    "print(df.info())\n",
    "\n",
    "print(\"\\nStatistical Summary:\")\n",
    "print(df.describe())\n",
    "\n",
    "# Pairplot visualization\n",
    "sns.pairplot(df, hue=\"species\")\n",
    "plt.show()\n",
    "\n",
    "# Correlation heatmap\n",
    "plt.figure(figsize=(6,4))\n",
    "sns.heatmap(df.iloc[:,:-1].corr(), annot=True, cmap=\"coolwarm\")\n",
    "plt.title(\"Feature Correlation\")\n",
    "plt.show()\n"
   ]
  },
  {
   "cell_type": "markdown",
   "id": "69562758",
   "metadata": {},
   "source": [
    "## 📌 Step 3: Preprocess Data"
   ]
  },
  {
   "cell_type": "code",
   "execution_count": null,
   "id": "35a66bbb",
   "metadata": {},
   "outputs": [],
   "source": [
    "\n",
    "X = df.drop(\"species\", axis=1)\n",
    "y = df[\"species\"]\n",
    "\n",
    "X_train, X_test, y_train, y_test = train_test_split(X, y, test_size=0.2, random_state=42)\n",
    "\n",
    "print(\"Training set size:\", X_train.shape)\n",
    "print(\"Testing set size:\", X_test.shape)\n"
   ]
  },
  {
   "cell_type": "markdown",
   "id": "a8004f41",
   "metadata": {},
   "source": [
    "## 📌 Step 4: Train Models"
   ]
  },
  {
   "cell_type": "code",
   "execution_count": null,
   "id": "731433ec",
   "metadata": {},
   "outputs": [],
   "source": [
    "\n",
    "# Model 1: K-Nearest Neighbors\n",
    "knn = KNeighborsClassifier()\n",
    "knn.fit(X_train, y_train)\n",
    "\n",
    "# Model 2: Decision Tree\n",
    "dt = DecisionTreeClassifier(random_state=42)\n",
    "dt.fit(X_train, y_train)\n"
   ]
  },
  {
   "cell_type": "markdown",
   "id": "f45e7179",
   "metadata": {},
   "source": [
    "## 📌 Step 5: Evaluate Models"
   ]
  },
  {
   "cell_type": "code",
   "execution_count": null,
   "id": "70b1af4b",
   "metadata": {},
   "outputs": [],
   "source": [
    "\n",
    "def evaluate_model(model, model_name):\n",
    "    y_pred = model.predict(X_test)\n",
    "    print(f\"\\n🔹 {model_name} Results 🔹\")\n",
    "    print(\"Accuracy:\", accuracy_score(y_test, y_pred))\n",
    "    print(\"\\nClassification Report:\\n\", classification_report(y_test, y_pred))\n",
    "\n",
    "    # Confusion Matrix\n",
    "    cm = confusion_matrix(y_test, y_pred)\n",
    "    plt.figure(figsize=(5,4))\n",
    "    sns.heatmap(cm, annot=True, fmt=\"d\", cmap=\"Blues\",\n",
    "                xticklabels=iris.target_names,\n",
    "                yticklabels=iris.target_names)\n",
    "    plt.xlabel(\"Predicted\")\n",
    "    plt.ylabel(\"Actual\")\n",
    "    plt.title(f\"{model_name} - Confusion Matrix\")\n",
    "    plt.show()\n",
    "\n",
    "# Evaluate KNN\n",
    "evaluate_model(knn, \"K-Nearest Neighbors\")\n",
    "\n",
    "# Evaluate Decision Tree\n",
    "evaluate_model(dt, \"Decision Tree\")\n"
   ]
  },
  {
   "cell_type": "markdown",
   "id": "26e8ad15",
   "metadata": {},
   "source": [
    "## 📌 Step 6: Save & Wrap Up"
   ]
  },
  {
   "cell_type": "code",
   "execution_count": null,
   "id": "0e6fd192",
   "metadata": {},
   "outputs": [],
   "source": [
    "\n",
    "# Save dataset (optional)\n",
    "df.to_csv(\"iris_dataset.csv\", index=False)\n",
    "print(\"Project Completed ✅ - Upload your notebook & README.md to GitHub\")\n"
   ]
  }
 ],
 "metadata": {},
 "nbformat": 4,
 "nbformat_minor": 5
}
